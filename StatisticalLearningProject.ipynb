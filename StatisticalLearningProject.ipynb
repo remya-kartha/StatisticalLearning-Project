{
 "cells": [
  {
   "cell_type": "markdown",
   "metadata": {},
   "source": [
    "## Project - Stats Hands On"
   ]
  },
  {
   "cell_type": "markdown",
   "metadata": {},
   "source": [
    "#### Data Description:"
   ]
  },
  {
   "cell_type": "markdown",
   "metadata": {},
   "source": [
    "###### Context:\n",
    "\n",
    "Leveraging customer information is paramount for most businesses. In the case of an insurance company, attributes of customers like the ones mentioned below can be crucial in making business decisions. Hence, knowing to explore and generate value out of such data can be an invaluable skill to have."
   ]
  },
  {
   "cell_type": "markdown",
   "metadata": {},
   "source": [
    "#### Attribute Information:"
   ]
  },
  {
   "cell_type": "markdown",
   "metadata": {},
   "source": [
    "###### age: age of primary beneficiary\n",
    "\n",
    "###### sex: insurance contractor gender, female, male\n",
    "\n",
    "###### bmi: Body mass index, providing an understanding of body, weights that are relatively high or low relative to height, objective index of body weight (kg / m ^ 2) using the ratio of height to weight, ideally 18.5 to 24.9\n",
    "\n",
    "###### children: Number of children covered by health insurance / Number of dependents\n",
    "\n",
    "###### smoker: Smoking\n",
    "\n",
    "###### region: the beneficiary's residential area in the US, northeast, southeast, southwest, northwest.\n",
    "\n",
    "###### charges: Individual medical costs billed by health insurance."
   ]
  },
  {
   "cell_type": "markdown",
   "metadata": {},
   "source": [
    "#### Learning Outcomes:\n",
    "\n",
    "     Exploratory Data Analysis\n",
    "     Practicing statistics using Python\n",
    "     Hypothesis testing"
   ]
  },
  {
   "cell_type": "markdown",
   "metadata": {},
   "source": [
    "#### Objective:"
   ]
  },
  {
   "cell_type": "markdown",
   "metadata": {},
   "source": [
    "###### We want to see if we can dive deep into this data to find some valuable insights."
   ]
  },
  {
   "cell_type": "markdown",
   "metadata": {},
   "source": [
    "##### Steps and tasks:"
   ]
  },
  {
   "cell_type": "markdown",
   "metadata": {},
   "source": [
    "- Import the necessary libraries (2 marks)\n",
    "- Read the data as a data frame (2 marks)\n",
    "- Perform basic EDA which should include the following and print out your insights at every step. (28 marks)\n",
    "\n",
    "a. Shape of the data (2 marks)\n",
    "\n",
    "b. Data type of each attribute (2 marks)\n",
    "\n",
    "c. Checking the presence of missing values (3 marks)\n",
    "\n",
    "d. 5 point summary of numerical attributes (3 marks)\n",
    "\n",
    "e. Distribution of ‘bmi’, ‘age’ and ‘charges’ columns. (4 marks)\n",
    "\n",
    "f. Measure of skewness of ‘bmi’, ‘age’ and ‘charges’ columns (2 marks)\n",
    "\n",
    "g. Checking the presence of outliers in ‘bmi’, ‘age’ and ‘charges columns (4 marks)\n",
    "\n",
    "h. Distribution of categorical columns (include children) (4 marks)\n",
    "\n",
    "i. Pair plot that includes all the columns of the data frame (4 marks) 4. Answer the following questions with statistical evidence (28 marks)\n",
    "\n",
    "a. Do charges of people who smoke differ significantly from the people who don't? (7 marks)\n",
    "\n",
    "b. Does bmi of males differ significantly from that of females? (7 marks)\n",
    "\n",
    "c. Is the proportion of smokers significantly different in different genders? (7\n",
    "\n",
    "marks)\n",
    "\n",
    "d. Is the distribution of bmi across women with no children, one child and two children, the same? (7 marks)"
   ]
  },
  {
   "cell_type": "code",
   "execution_count": 1,
   "metadata": {},
   "outputs": [],
   "source": [
    "%matplotlib inline\n",
    "import numpy as np\n",
    "import pandas as pd\n",
    "import matplotlib.pyplot as plt\n",
    "import seaborn as sns\n",
    "from scipy.stats import skew, stats\n",
    "from math import sqrt\n",
    "from numpy import mean, var"
   ]
  },
  {
   "cell_type": "code",
   "execution_count": 2,
   "metadata": {},
   "outputs": [],
   "source": [
    "data = pd.read_csv(\"insurance.csv\")"
   ]
  },
  {
   "cell_type": "code",
   "execution_count": 3,
   "metadata": {},
   "outputs": [
    {
     "data": {
      "text/html": [
       "<div>\n",
       "<style scoped>\n",
       "    .dataframe tbody tr th:only-of-type {\n",
       "        vertical-align: middle;\n",
       "    }\n",
       "\n",
       "    .dataframe tbody tr th {\n",
       "        vertical-align: top;\n",
       "    }\n",
       "\n",
       "    .dataframe thead th {\n",
       "        text-align: right;\n",
       "    }\n",
       "</style>\n",
       "<table border=\"1\" class=\"dataframe\">\n",
       "  <thead>\n",
       "    <tr style=\"text-align: right;\">\n",
       "      <th></th>\n",
       "      <th>age</th>\n",
       "      <th>sex</th>\n",
       "      <th>bmi</th>\n",
       "      <th>children</th>\n",
       "      <th>smoker</th>\n",
       "      <th>region</th>\n",
       "      <th>expenses</th>\n",
       "    </tr>\n",
       "  </thead>\n",
       "  <tbody>\n",
       "    <tr>\n",
       "      <th>0</th>\n",
       "      <td>19</td>\n",
       "      <td>female</td>\n",
       "      <td>27.9</td>\n",
       "      <td>0</td>\n",
       "      <td>yes</td>\n",
       "      <td>southwest</td>\n",
       "      <td>16884.92</td>\n",
       "    </tr>\n",
       "    <tr>\n",
       "      <th>1</th>\n",
       "      <td>18</td>\n",
       "      <td>male</td>\n",
       "      <td>33.8</td>\n",
       "      <td>1</td>\n",
       "      <td>no</td>\n",
       "      <td>southeast</td>\n",
       "      <td>1725.55</td>\n",
       "    </tr>\n",
       "    <tr>\n",
       "      <th>2</th>\n",
       "      <td>28</td>\n",
       "      <td>male</td>\n",
       "      <td>33.0</td>\n",
       "      <td>3</td>\n",
       "      <td>no</td>\n",
       "      <td>southeast</td>\n",
       "      <td>4449.46</td>\n",
       "    </tr>\n",
       "    <tr>\n",
       "      <th>3</th>\n",
       "      <td>33</td>\n",
       "      <td>male</td>\n",
       "      <td>22.7</td>\n",
       "      <td>0</td>\n",
       "      <td>no</td>\n",
       "      <td>northwest</td>\n",
       "      <td>21984.47</td>\n",
       "    </tr>\n",
       "    <tr>\n",
       "      <th>4</th>\n",
       "      <td>32</td>\n",
       "      <td>male</td>\n",
       "      <td>28.9</td>\n",
       "      <td>0</td>\n",
       "      <td>no</td>\n",
       "      <td>northwest</td>\n",
       "      <td>3866.86</td>\n",
       "    </tr>\n",
       "  </tbody>\n",
       "</table>\n",
       "</div>"
      ],
      "text/plain": [
       "   age     sex   bmi  children smoker     region  expenses\n",
       "0   19  female  27.9         0    yes  southwest  16884.92\n",
       "1   18    male  33.8         1     no  southeast   1725.55\n",
       "2   28    male  33.0         3     no  southeast   4449.46\n",
       "3   33    male  22.7         0     no  northwest  21984.47\n",
       "4   32    male  28.9         0     no  northwest   3866.86"
      ]
     },
     "execution_count": 3,
     "metadata": {},
     "output_type": "execute_result"
    }
   ],
   "source": [
    "data.head()"
   ]
  },
  {
   "cell_type": "markdown",
   "metadata": {},
   "source": [
    "#### a. Shape of the data"
   ]
  },
  {
   "cell_type": "code",
   "execution_count": 4,
   "metadata": {},
   "outputs": [
    {
     "data": {
      "text/plain": [
       "(1338, 7)"
      ]
     },
     "execution_count": 4,
     "metadata": {},
     "output_type": "execute_result"
    }
   ],
   "source": [
    "# a. Shape of the data\n",
    "data.shape"
   ]
  },
  {
   "cell_type": "markdown",
   "metadata": {},
   "source": [
    "#### b. Data type of each attribute"
   ]
  },
  {
   "cell_type": "code",
   "execution_count": 5,
   "metadata": {},
   "outputs": [
    {
     "data": {
      "text/plain": [
       "age           int64\n",
       "sex          object\n",
       "bmi         float64\n",
       "children      int64\n",
       "smoker       object\n",
       "region       object\n",
       "expenses    float64\n",
       "dtype: object"
      ]
     },
     "execution_count": 5,
     "metadata": {},
     "output_type": "execute_result"
    }
   ],
   "source": [
    "# b. Data type of each attribute\n",
    "data.dtypes"
   ]
  },
  {
   "cell_type": "code",
   "execution_count": 17,
   "metadata": {},
   "outputs": [
    {
     "name": "stdout",
     "output_type": "stream",
     "text": [
      "<class 'pandas.core.frame.DataFrame'>\n",
      "RangeIndex: 1338 entries, 0 to 1337\n",
      "Data columns (total 7 columns):\n",
      " #   Column    Non-Null Count  Dtype  \n",
      "---  ------    --------------  -----  \n",
      " 0   age       1338 non-null   int64  \n",
      " 1   sex       1338 non-null   object \n",
      " 2   bmi       1338 non-null   float64\n",
      " 3   children  1338 non-null   int64  \n",
      " 4   smoker    1338 non-null   object \n",
      " 5   region    1338 non-null   object \n",
      " 6   expenses  1338 non-null   float64\n",
      "dtypes: float64(2), int64(2), object(3)\n",
      "memory usage: 73.3+ KB\n"
     ]
    }
   ],
   "source": [
    "# b. Data type of each attribute\n",
    "data.info()"
   ]
  },
  {
   "cell_type": "markdown",
   "metadata": {},
   "source": [
    "#### c. Checking the presence of missing values"
   ]
  },
  {
   "cell_type": "code",
   "execution_count": 6,
   "metadata": {},
   "outputs": [
    {
     "data": {
      "text/html": [
       "<div>\n",
       "<style scoped>\n",
       "    .dataframe tbody tr th:only-of-type {\n",
       "        vertical-align: middle;\n",
       "    }\n",
       "\n",
       "    .dataframe tbody tr th {\n",
       "        vertical-align: top;\n",
       "    }\n",
       "\n",
       "    .dataframe thead th {\n",
       "        text-align: right;\n",
       "    }\n",
       "</style>\n",
       "<table border=\"1\" class=\"dataframe\">\n",
       "  <thead>\n",
       "    <tr style=\"text-align: right;\">\n",
       "      <th></th>\n",
       "      <th>age</th>\n",
       "      <th>sex</th>\n",
       "      <th>bmi</th>\n",
       "      <th>children</th>\n",
       "      <th>smoker</th>\n",
       "      <th>region</th>\n",
       "      <th>expenses</th>\n",
       "    </tr>\n",
       "  </thead>\n",
       "  <tbody>\n",
       "    <tr>\n",
       "      <th>0</th>\n",
       "      <td>False</td>\n",
       "      <td>False</td>\n",
       "      <td>False</td>\n",
       "      <td>False</td>\n",
       "      <td>False</td>\n",
       "      <td>False</td>\n",
       "      <td>False</td>\n",
       "    </tr>\n",
       "    <tr>\n",
       "      <th>1</th>\n",
       "      <td>False</td>\n",
       "      <td>False</td>\n",
       "      <td>False</td>\n",
       "      <td>False</td>\n",
       "      <td>False</td>\n",
       "      <td>False</td>\n",
       "      <td>False</td>\n",
       "    </tr>\n",
       "    <tr>\n",
       "      <th>2</th>\n",
       "      <td>False</td>\n",
       "      <td>False</td>\n",
       "      <td>False</td>\n",
       "      <td>False</td>\n",
       "      <td>False</td>\n",
       "      <td>False</td>\n",
       "      <td>False</td>\n",
       "    </tr>\n",
       "    <tr>\n",
       "      <th>3</th>\n",
       "      <td>False</td>\n",
       "      <td>False</td>\n",
       "      <td>False</td>\n",
       "      <td>False</td>\n",
       "      <td>False</td>\n",
       "      <td>False</td>\n",
       "      <td>False</td>\n",
       "    </tr>\n",
       "    <tr>\n",
       "      <th>4</th>\n",
       "      <td>False</td>\n",
       "      <td>False</td>\n",
       "      <td>False</td>\n",
       "      <td>False</td>\n",
       "      <td>False</td>\n",
       "      <td>False</td>\n",
       "      <td>False</td>\n",
       "    </tr>\n",
       "    <tr>\n",
       "      <th>...</th>\n",
       "      <td>...</td>\n",
       "      <td>...</td>\n",
       "      <td>...</td>\n",
       "      <td>...</td>\n",
       "      <td>...</td>\n",
       "      <td>...</td>\n",
       "      <td>...</td>\n",
       "    </tr>\n",
       "    <tr>\n",
       "      <th>1333</th>\n",
       "      <td>False</td>\n",
       "      <td>False</td>\n",
       "      <td>False</td>\n",
       "      <td>False</td>\n",
       "      <td>False</td>\n",
       "      <td>False</td>\n",
       "      <td>False</td>\n",
       "    </tr>\n",
       "    <tr>\n",
       "      <th>1334</th>\n",
       "      <td>False</td>\n",
       "      <td>False</td>\n",
       "      <td>False</td>\n",
       "      <td>False</td>\n",
       "      <td>False</td>\n",
       "      <td>False</td>\n",
       "      <td>False</td>\n",
       "    </tr>\n",
       "    <tr>\n",
       "      <th>1335</th>\n",
       "      <td>False</td>\n",
       "      <td>False</td>\n",
       "      <td>False</td>\n",
       "      <td>False</td>\n",
       "      <td>False</td>\n",
       "      <td>False</td>\n",
       "      <td>False</td>\n",
       "    </tr>\n",
       "    <tr>\n",
       "      <th>1336</th>\n",
       "      <td>False</td>\n",
       "      <td>False</td>\n",
       "      <td>False</td>\n",
       "      <td>False</td>\n",
       "      <td>False</td>\n",
       "      <td>False</td>\n",
       "      <td>False</td>\n",
       "    </tr>\n",
       "    <tr>\n",
       "      <th>1337</th>\n",
       "      <td>False</td>\n",
       "      <td>False</td>\n",
       "      <td>False</td>\n",
       "      <td>False</td>\n",
       "      <td>False</td>\n",
       "      <td>False</td>\n",
       "      <td>False</td>\n",
       "    </tr>\n",
       "  </tbody>\n",
       "</table>\n",
       "<p>1338 rows × 7 columns</p>\n",
       "</div>"
      ],
      "text/plain": [
       "        age    sex    bmi  children  smoker  region  expenses\n",
       "0     False  False  False     False   False   False     False\n",
       "1     False  False  False     False   False   False     False\n",
       "2     False  False  False     False   False   False     False\n",
       "3     False  False  False     False   False   False     False\n",
       "4     False  False  False     False   False   False     False\n",
       "...     ...    ...    ...       ...     ...     ...       ...\n",
       "1333  False  False  False     False   False   False     False\n",
       "1334  False  False  False     False   False   False     False\n",
       "1335  False  False  False     False   False   False     False\n",
       "1336  False  False  False     False   False   False     False\n",
       "1337  False  False  False     False   False   False     False\n",
       "\n",
       "[1338 rows x 7 columns]"
      ]
     },
     "execution_count": 6,
     "metadata": {},
     "output_type": "execute_result"
    }
   ],
   "source": [
    "# c. Checking the presence of missing values\n",
    "\n",
    "#1. isnull() - function to find out all the fieldswhich have missing values. Will return 'True' if value is missing else False\n",
    "\n",
    "data.isnull()"
   ]
  },
  {
   "cell_type": "code",
   "execution_count": 7,
   "metadata": {},
   "outputs": [
    {
     "data": {
      "text/plain": [
       "age         0\n",
       "sex         0\n",
       "bmi         0\n",
       "children    0\n",
       "smoker      0\n",
       "region      0\n",
       "expenses    0\n",
       "dtype: int64"
      ]
     },
     "execution_count": 7,
     "metadata": {},
     "output_type": "execute_result"
    }
   ],
   "source": [
    "# c. Checking the presence of missing values\n",
    "\n",
    "#2. isnull().sum() - To get how many missing values are in each column we use sum() along with isnull(). It sums up the True in each column and returns the count of missing values\n",
    "data.isnull().sum()"
   ]
  },
  {
   "cell_type": "code",
   "execution_count": 8,
   "metadata": {},
   "outputs": [
    {
     "data": {
      "text/plain": [
       "expenses    0\n",
       "region      0\n",
       "smoker      0\n",
       "children    0\n",
       "bmi         0\n",
       "sex         0\n",
       "age         0\n",
       "dtype: int64"
      ]
     },
     "execution_count": 8,
     "metadata": {},
     "output_type": "execute_result"
    }
   ],
   "source": [
    "# c. Checking the presence of missing values\n",
    "\n",
    "#3. Sorting in descending order the columns with missing values \n",
    "\n",
    "data.isnull().sum().sort_values(ascending=False)"
   ]
  },
  {
   "cell_type": "code",
   "execution_count": 10,
   "metadata": {},
   "outputs": [
    {
     "data": {
      "text/plain": [
       "expenses    0.0\n",
       "region      0.0\n",
       "smoker      0.0\n",
       "children    0.0\n",
       "bmi         0.0\n",
       "sex         0.0\n",
       "age         0.0\n",
       "dtype: float64"
      ]
     },
     "execution_count": 10,
     "metadata": {},
     "output_type": "execute_result"
    }
   ],
   "source": [
    "# c. Checking the presence of missing values\n",
    "\n",
    "#4. To get the percentage of missing values in each column ---divide by length of data frame.\n",
    "\n",
    "data.isnull().sum().sort_values(ascending=False)/len(data)"
   ]
  },
  {
   "cell_type": "markdown",
   "metadata": {},
   "source": [
    "#### d. 5 point summary of numerical attributes"
   ]
  },
  {
   "cell_type": "code",
   "execution_count": 11,
   "metadata": {},
   "outputs": [
    {
     "data": {
      "text/html": [
       "<div>\n",
       "<style scoped>\n",
       "    .dataframe tbody tr th:only-of-type {\n",
       "        vertical-align: middle;\n",
       "    }\n",
       "\n",
       "    .dataframe tbody tr th {\n",
       "        vertical-align: top;\n",
       "    }\n",
       "\n",
       "    .dataframe thead th {\n",
       "        text-align: right;\n",
       "    }\n",
       "</style>\n",
       "<table border=\"1\" class=\"dataframe\">\n",
       "  <thead>\n",
       "    <tr style=\"text-align: right;\">\n",
       "      <th></th>\n",
       "      <th>age</th>\n",
       "      <th>bmi</th>\n",
       "      <th>children</th>\n",
       "      <th>expenses</th>\n",
       "    </tr>\n",
       "  </thead>\n",
       "  <tbody>\n",
       "    <tr>\n",
       "      <th>count</th>\n",
       "      <td>1338.000000</td>\n",
       "      <td>1338.000000</td>\n",
       "      <td>1338.000000</td>\n",
       "      <td>1338.000000</td>\n",
       "    </tr>\n",
       "    <tr>\n",
       "      <th>mean</th>\n",
       "      <td>39.207025</td>\n",
       "      <td>30.665471</td>\n",
       "      <td>1.094918</td>\n",
       "      <td>13270.422414</td>\n",
       "    </tr>\n",
       "    <tr>\n",
       "      <th>std</th>\n",
       "      <td>14.049960</td>\n",
       "      <td>6.098382</td>\n",
       "      <td>1.205493</td>\n",
       "      <td>12110.011240</td>\n",
       "    </tr>\n",
       "    <tr>\n",
       "      <th>min</th>\n",
       "      <td>18.000000</td>\n",
       "      <td>16.000000</td>\n",
       "      <td>0.000000</td>\n",
       "      <td>1121.870000</td>\n",
       "    </tr>\n",
       "    <tr>\n",
       "      <th>25%</th>\n",
       "      <td>27.000000</td>\n",
       "      <td>26.300000</td>\n",
       "      <td>0.000000</td>\n",
       "      <td>4740.287500</td>\n",
       "    </tr>\n",
       "    <tr>\n",
       "      <th>50%</th>\n",
       "      <td>39.000000</td>\n",
       "      <td>30.400000</td>\n",
       "      <td>1.000000</td>\n",
       "      <td>9382.030000</td>\n",
       "    </tr>\n",
       "    <tr>\n",
       "      <th>75%</th>\n",
       "      <td>51.000000</td>\n",
       "      <td>34.700000</td>\n",
       "      <td>2.000000</td>\n",
       "      <td>16639.915000</td>\n",
       "    </tr>\n",
       "    <tr>\n",
       "      <th>max</th>\n",
       "      <td>64.000000</td>\n",
       "      <td>53.100000</td>\n",
       "      <td>5.000000</td>\n",
       "      <td>63770.430000</td>\n",
       "    </tr>\n",
       "  </tbody>\n",
       "</table>\n",
       "</div>"
      ],
      "text/plain": [
       "               age          bmi     children      expenses\n",
       "count  1338.000000  1338.000000  1338.000000   1338.000000\n",
       "mean     39.207025    30.665471     1.094918  13270.422414\n",
       "std      14.049960     6.098382     1.205493  12110.011240\n",
       "min      18.000000    16.000000     0.000000   1121.870000\n",
       "25%      27.000000    26.300000     0.000000   4740.287500\n",
       "50%      39.000000    30.400000     1.000000   9382.030000\n",
       "75%      51.000000    34.700000     2.000000  16639.915000\n",
       "max      64.000000    53.100000     5.000000  63770.430000"
      ]
     },
     "execution_count": 11,
     "metadata": {},
     "output_type": "execute_result"
    }
   ],
   "source": [
    "# d. 5 point summary of numerical attributes\n",
    "\n",
    "#1 . describe method\n",
    "data.describe()"
   ]
  },
  {
   "cell_type": "code",
   "execution_count": 18,
   "metadata": {},
   "outputs": [
    {
     "name": "stdout",
     "output_type": "stream",
     "text": [
      "Mean of Age: 39.20702541106129\n",
      "Quantiles of Age:  [26.75, 39.0, 51.0]\n"
     ]
    }
   ],
   "source": [
    "# d. 5 point summary of numerical attributes\n",
    "\n",
    "#2 . using statistics module\n",
    "\n",
    "import statistics\n",
    "print(\"Mean of Age:\",statistics.mean(data['age']))\n",
    "print(\"Quantiles of Age: \",statistics.quantiles(data['age'],n=4))\n"
   ]
  },
  {
   "cell_type": "code",
   "execution_count": 23,
   "metadata": {},
   "outputs": [
    {
     "name": "stdout",
     "output_type": "stream",
     "text": [
      "   age   bmi  children  expenses\n",
      "0   19  27.9         0  16884.92\n",
      "1   18  33.8         1   1725.55\n",
      "2   28  33.0         3   4449.46\n",
      "3   33  22.7         0  21984.47\n",
      "4   32  28.9         0   3866.86\n",
      "Quartiles [ 13.25    32.5    328.4675]\n",
      "**********************\n",
      "Min value: age           18.00\n",
      "bmi           16.00\n",
      "children       0.00\n",
      "expenses    1121.87\n",
      "dtype: float64\n",
      "**********************\n",
      "Max value: age            64.00\n",
      "bmi            53.10\n",
      "children        5.00\n",
      "expenses    63770.43\n",
      "dtype: float64\n"
     ]
    }
   ],
   "source": [
    "# d. 5 point summary of numerical attributes\n",
    "\n",
    "from numpy import percentile\n",
    "newdata = data.loc[:,['age','bmi','children','expenses']]\n",
    "print(newdata.head())\n",
    "print(\"Quartiles\",percentile(newdata,[25,50,75]))\n",
    "print(\"**********************\")\n",
    "print(\"Min value:\",newdata.min())\n",
    "print(\"**********************\")\n",
    "print(\"Max value:\",newdata.max())"
   ]
  },
  {
   "cell_type": "markdown",
   "metadata": {},
   "source": [
    "#### e. Distribution of ‘bmi’, ‘age’ and ‘expenses’ columns."
   ]
  },
  {
   "cell_type": "code",
   "execution_count": 31,
   "metadata": {},
   "outputs": [
    {
     "data": {
      "text/plain": [
       "array([[<AxesSubplot:title={'center':'age'}>,\n",
       "        <AxesSubplot:title={'center':'bmi'}>],\n",
       "       [<AxesSubplot:title={'center':'expenses'}>, <AxesSubplot:>]],\n",
       "      dtype=object)"
      ]
     },
     "execution_count": 31,
     "metadata": {},
     "output_type": "execute_result"
    },
    {
     "data": {
      "image/png": "[encoded data removed]",
      "text/plain": [
       "<Figure size 864x576 with 4 Axes>"
      ]
     },
     "metadata": {
      "needs_background": "light"
     },
     "output_type": "display_data"
    }
   ],
   "source": [
    "# e. Distribution of ‘bmi’, ‘age’ and ‘expenses’ columns.\n",
    "\n",
    "#1. Using Dataframe - histplot  ---- hist method requires numerical columns\n",
    "\n",
    "# A histogram shows the number of occurrences of different values in a dataset. \n",
    "# It is similar to bar chart but the difference is: the unique values will be grouped into ranges. \n",
    "# These ranges are called bins or buckets\n",
    "# In Python, the default number of bins is 10\n",
    "\n",
    "newDistData = data.loc[:,['age','bmi','expenses']]\n",
    "newDistData.hist(bins=50,grid=False,figsize = (12,8))\n"
   ]
  },
  {
   "cell_type": "code",
   "execution_count": 44,
   "metadata": {},
   "outputs": [
    {
     "data": {
      "text/plain": [
       "Text(0.5, 1.0, 'Distribution of Age')"
      ]
     },
     "execution_count": 44,
     "metadata": {},
     "output_type": "execute_result"
    },
    {
     "data": {
      "image/png": "[encoded data removed]",
      "text/plain": [
       "<Figure size 432x288 with 1 Axes>"
      ]
     },
     "metadata": {
      "needs_background": "light"
     },
     "output_type": "display_data"
    }
   ],
   "source": [
    "# e. Distribution of ‘bmi’, ‘age’ and ‘expenses’ columns.\n",
    "\n",
    "# 2. Using seaborn\n",
    "# Seaborn’s distplot can take the column from Pandas dataframe as argument to make histogram\n",
    "# Seaborn can infer the x-axis label and its ranges. \n",
    "# It automatically chooses a bin size to make the histogram. \n",
    "# Seaborn plots density curve in addition to a histogram\n",
    "# We can use Seaborn distplot’s argument ‘kde=False’ to remove the density line on the histogram\n",
    "# ‘color=’red’ argument to change the color of the histogram\n",
    "# use bins=100 to increase the number of bins\n",
    "\n",
    "\n",
    "sns.distplot(newDistData['age'],  kde=False, label='age')\n",
    "# Plot formatting\n",
    "plt.legend(prop={'size': 12})\n",
    "plt.title('Distribution of Age')\n",
    "\n"
   ]
  },
  {
   "cell_type": "code",
   "execution_count": 46,
   "metadata": {},
   "outputs": [
    {
     "data": {
      "text/plain": [
       "Text(0.5, 1.0, 'Distribution of BMI')"
      ]
     },
     "execution_count": 46,
     "metadata": {},
     "output_type": "execute_result"
    },
    {
     "data": {
      "image/png": "[encoded data removed]",
      "text/plain": [
       "<Figure size 432x288 with 1 Axes>"
      ]
     },
     "metadata": {
      "needs_background": "light"
     },
     "output_type": "display_data"
    }
   ],
   "source": [
    "sns.distplot(newDistData['bmi'],  kde=False, label='bmi',color='green')\n",
    "# Plot formatting\n",
    "plt.legend(prop={'size': 12})\n",
    "plt.title('Distribution of BMI')\n"
   ]
  },
  {
   "cell_type": "code",
   "execution_count": 45,
   "metadata": {},
   "outputs": [
    {
     "data": {
      "text/plain": [
       "Text(0.5, 1.0, 'Distribution of Expenses')"
      ]
     },
     "execution_count": 45,
     "metadata": {},
     "output_type": "execute_result"
    },
    {
     "data": {
      "image/png": "[encoded data removed]",
      "text/plain": [
       "<Figure size 432x288 with 1 Axes>"
      ]
     },
     "metadata": {
      "needs_background": "light"
     },
     "output_type": "display_data"
    }
   ],
   "source": [
    "\n",
    "sns.distplot(newDistData['expenses'],  kde=False, label='expenses',color='red')\n",
    "# Plot formatting\n",
    "plt.legend(prop={'size': 12})\n",
    "plt.title('Distribution of Expenses')"
   ]
  },
  {
   "cell_type": "markdown",
   "metadata": {},
   "source": [
    "#### f. Measure of skewness of ‘bmi’, ‘age’ and ‘charges’ columns"
   ]
  },
  {
   "cell_type": "code",
   "execution_count": 50,
   "metadata": {},
   "outputs": [
    {
     "name": "stdout",
     "output_type": "stream",
     "text": [
      "Skew of age 0.055610083072599126\n",
      "Skew of bmi 0.284273810356019\n",
      "Skew of expenses 1.5141797167430497\n"
     ]
    }
   ],
   "source": [
    "for column in newDistData:\n",
    "    print(f\"Skew of {column}\",skew(newDistData[column]))\n"
   ]
  },
  {
   "cell_type": "code",
   "execution_count": 51,
   "metadata": {},
   "outputs": [
    {
     "data": {
      "text/plain": [
       "age         0.055673\n",
       "bmi         0.284593\n",
       "expenses    1.515880\n",
       "dtype: float64"
      ]
     },
     "execution_count": 51,
     "metadata": {},
     "output_type": "execute_result"
    }
   ],
   "source": [
    " newDistData.skew()"
   ]
  },
  {
   "cell_type": "markdown",
   "metadata": {},
   "source": [
    "#### g. Checking the presence of outliers in ‘bmi’, ‘age’ and ‘charges columns"
   ]
  },
  {
   "cell_type": "code",
   "execution_count": 54,
   "metadata": {},
   "outputs": [
    {
     "data": {
      "text/plain": [
       "<AxesSubplot:>"
      ]
     },
     "execution_count": 54,
     "metadata": {},
     "output_type": "execute_result"
    },
    {
     "data": {
      "image/png": "[encoded data removed]",
      "text/plain": [
       "<Figure size 432x288 with 1 Axes>"
      ]
     },
     "metadata": {
      "needs_background": "light"
     },
     "output_type": "display_data"
    }
   ],
   "source": [
    "# g. Checking the presence of outliers in ‘bmi’, ‘age’ and ‘charges columns\n",
    "\n",
    "# 1. using boxplot\n",
    "new_data1 = newDistData.loc[:,['age','bmi']]\n",
    "sns.boxplot(data = new_data1)"
   ]
  },
  {
   "cell_type": "markdown",
   "metadata": {},
   "source": [
    "BMI,Expenses have outliers"
   ]
  },
  {
   "cell_type": "code",
   "execution_count": 71,
   "metadata": {},
   "outputs": [
    {
     "data": {
      "text/plain": [
       "<AxesSubplot:>"
      ]
     },
     "execution_count": 71,
     "metadata": {},
     "output_type": "execute_result"
    },
    {
     "data": {
      "image/png": "[encoded data removed]",
      "text/plain": [
       "<Figure size 432x288 with 1 Axes>"
      ]
     },
     "metadata": {
      "needs_background": "light"
     },
     "output_type": "display_data"
    }
   ],
   "source": [
    "sns.boxplot(data = newDistData.loc[:,['expenses']])"
   ]
  },
  {
   "cell_type": "code",
   "execution_count": 59,
   "metadata": {},
   "outputs": [
    {
     "data": {
      "text/plain": [
       "(array([  34,  116,  543,  577,  819,  847, 1047, 1146, 1230, 1300, 1317],\n",
       "       dtype=int64),\n",
       " array([2, 1, 2, 2, 2, 1, 1, 2, 2, 2, 1], dtype=int64))"
      ]
     },
     "execution_count": 59,
     "metadata": {},
     "output_type": "execute_result"
    }
   ],
   "source": [
    "# g. Checking the presence of outliers in ‘bmi’, ‘age’ and ‘expenses' columns\n",
    "\n",
    "# 1. using z-score\n",
    "       # - calculate the zscore for each value in the df\n",
    "       # - if zscore(value) < -3 or zscore(value) > 3 then the value is an outlier\n",
    "\n",
    "from scipy import stats\n",
    "\n",
    "# calculate the absolute z-score for the data\n",
    "zscore = np.abs(stats.zscore(newDistData))\n",
    "\n",
    "threshold = 3\n",
    "\n",
    "np.where(zscore > 3) ### returns two arrays. 1st array is row number and 2nd array is the column number\n",
    "\n",
    "### arr1[0]= 34 arr2[0]=2 so the zscore of  row 34, column 2 is greater thn 3--> it is an outlier\n",
    "\n",
    "### The numpy.where() function returns the indices of elements in an input array where the given condition is satisfied\n",
    "\n",
    " "
   ]
  },
  {
   "cell_type": "code",
   "execution_count": 61,
   "metadata": {},
   "outputs": [
    {
     "data": {
      "text/html": [
       "<div>\n",
       "<style scoped>\n",
       "    .dataframe tbody tr th:only-of-type {\n",
       "        vertical-align: middle;\n",
       "    }\n",
       "\n",
       "    .dataframe tbody tr th {\n",
       "        vertical-align: top;\n",
       "    }\n",
       "\n",
       "    .dataframe thead th {\n",
       "        text-align: right;\n",
       "    }\n",
       "</style>\n",
       "<table border=\"1\" class=\"dataframe\">\n",
       "  <thead>\n",
       "    <tr style=\"text-align: right;\">\n",
       "      <th></th>\n",
       "      <th>age</th>\n",
       "      <th>bmi</th>\n",
       "      <th>expenses</th>\n",
       "    </tr>\n",
       "  </thead>\n",
       "  <tbody>\n",
       "    <tr>\n",
       "      <th>0</th>\n",
       "      <td>19</td>\n",
       "      <td>27.9</td>\n",
       "      <td>16884.92</td>\n",
       "    </tr>\n",
       "    <tr>\n",
       "      <th>1</th>\n",
       "      <td>18</td>\n",
       "      <td>33.8</td>\n",
       "      <td>1725.55</td>\n",
       "    </tr>\n",
       "    <tr>\n",
       "      <th>2</th>\n",
       "      <td>28</td>\n",
       "      <td>33.0</td>\n",
       "      <td>4449.46</td>\n",
       "    </tr>\n",
       "    <tr>\n",
       "      <th>3</th>\n",
       "      <td>33</td>\n",
       "      <td>22.7</td>\n",
       "      <td>21984.47</td>\n",
       "    </tr>\n",
       "    <tr>\n",
       "      <th>4</th>\n",
       "      <td>32</td>\n",
       "      <td>28.9</td>\n",
       "      <td>3866.86</td>\n",
       "    </tr>\n",
       "    <tr>\n",
       "      <th>...</th>\n",
       "      <td>...</td>\n",
       "      <td>...</td>\n",
       "      <td>...</td>\n",
       "    </tr>\n",
       "    <tr>\n",
       "      <th>1333</th>\n",
       "      <td>50</td>\n",
       "      <td>31.0</td>\n",
       "      <td>10600.55</td>\n",
       "    </tr>\n",
       "    <tr>\n",
       "      <th>1334</th>\n",
       "      <td>18</td>\n",
       "      <td>31.9</td>\n",
       "      <td>2205.98</td>\n",
       "    </tr>\n",
       "    <tr>\n",
       "      <th>1335</th>\n",
       "      <td>18</td>\n",
       "      <td>36.9</td>\n",
       "      <td>1629.83</td>\n",
       "    </tr>\n",
       "    <tr>\n",
       "      <th>1336</th>\n",
       "      <td>21</td>\n",
       "      <td>25.8</td>\n",
       "      <td>2007.95</td>\n",
       "    </tr>\n",
       "    <tr>\n",
       "      <th>1337</th>\n",
       "      <td>61</td>\n",
       "      <td>29.1</td>\n",
       "      <td>29141.36</td>\n",
       "    </tr>\n",
       "  </tbody>\n",
       "</table>\n",
       "<p>1327 rows × 3 columns</p>\n",
       "</div>"
      ],
      "text/plain": [
       "      age   bmi  expenses\n",
       "0      19  27.9  16884.92\n",
       "1      18  33.8   1725.55\n",
       "2      28  33.0   4449.46\n",
       "3      33  22.7  21984.47\n",
       "4      32  28.9   3866.86\n",
       "...   ...   ...       ...\n",
       "1333   50  31.0  10600.55\n",
       "1334   18  31.9   2205.98\n",
       "1335   18  36.9   1629.83\n",
       "1336   21  25.8   2007.95\n",
       "1337   61  29.1  29141.36\n",
       "\n",
       "[1327 rows x 3 columns]"
      ]
     },
     "execution_count": 61,
     "metadata": {},
     "output_type": "execute_result"
    }
   ],
   "source": [
    "### removal of outliers\n",
    "DistData_without_outlier = newDistData[(zscore < 3).all(axis=1)]\n",
    "\n",
    "#The all() function is used to check whether ALL elements are True, potentially over an axis"
   ]
  },
  {
   "cell_type": "code",
   "execution_count": 89,
   "metadata": {},
   "outputs": [
    {
     "name": "stdout",
     "output_type": "stream",
     "text": [
      "[17.23425 17.3685  17.70275]\n"
     ]
    },
    {
     "data": {
      "text/plain": [
       "26.3"
      ]
     },
     "execution_count": 89,
     "metadata": {},
     "output_type": "execute_result"
    }
   ],
   "source": [
    "from numpy import percentile\n",
    "print(percentile(newDistData['bmi'],[0.25,0.50,0.75]))\n",
    "newDistData['bmi'].quantile(0.25)"
   ]
  },
  {
   "cell_type": "code",
   "execution_count": 155,
   "metadata": {},
   "outputs": [],
   "source": [
    "# g. Checking the presence of outliers in ‘bmi’, ‘age’ and ‘expenses' columns\n",
    "\n",
    "# 1. using IQR method\n",
    "\n",
    "#outliers lie beyond Q1-1.5(IQR) and Q3 + 1.5(IQR)\n",
    "\n",
    "### Getting Q1 and Q2\n",
    "\n",
    "def outlier_detection_removal(dataframe, columnName):\n",
    "    Q1,Q3 = np.quantile(dataframe[columnName], 0.25), np.quantile(dataframe[columnName], 0.75)\n",
    "    IQR = Q3-Q1\n",
    "    print(\"Q1:\",Q1)\n",
    "    print(\"Q3:\",Q3)\n",
    "    print(\"IQR: \",IQR)\n",
    "    # outlier cutoff\n",
    "    cut_off = IQR * 1.5\n",
    "    print(\"cut_off:\",cut_off)\n",
    "    #lower threshold\n",
    "    l_threshold = Q1 - cut_off\n",
    "    print(\"l_threshold:\",l_threshold)\n",
    "    #upper_threshold\n",
    "    u_threshold = Q3 + cut_off\n",
    "    print(\"u_threshold:\",u_threshold)\n",
    "    print(\"*******************************************************\")\n",
    "    \n",
    "    # outliers\n",
    "    outliers_above= dataframe[dataframe[columnName] > u_threshold] \n",
    "    print(\"Outliers above::\" ,outliers_above)\n",
    "    print(\"*******************************************************\")\n",
    "    outliers_below=dataframe[dataframe[columnName] < l_threshold] \n",
    "    print(\"Outliers below::\" ,outliers_below)\n",
    "    print(\"*******************************************************\")\n",
    "    print('Total number of outliers are', outliers_above.shape[0]+ outliers_below.shape[0])\n",
    "    print(\"*******************************************************\")\n",
    "    \n",
    "    #outlier removal\n",
    "    df_new = dataframe[(dataframe[columnName] < u_threshold) & (dataframe[columnName] > l_threshold)]\n",
    "    print(\"Data frame after removal of outliers:\",df_new, sep=\"\\n\")\n",
    "    print(\"*******************************************************\")\n",
    "    return(df_new)"
   ]
  },
  {
   "cell_type": "code",
   "execution_count": 139,
   "metadata": {},
   "outputs": [
    {
     "name": "stdout",
     "output_type": "stream",
     "text": [
      "Q1: 26.3\n",
      "Q3: 34.7\n",
      "IQR:  8.400000000000002\n",
      "cut_off: 12.600000000000003\n",
      "l_threshold: 13.699999999999998\n",
      "u_threshold: 47.300000000000004\n",
      "Total number of outliers are 9\n",
      "      age   bmi  expenses\n",
      "0      19  27.9  16884.92\n",
      "1      18  33.8   1725.55\n",
      "2      28  33.0   4449.46\n",
      "3      33  22.7  21984.47\n",
      "4      32  28.9   3866.86\n",
      "...   ...   ...       ...\n",
      "1333   50  31.0  10600.55\n",
      "1334   18  31.9   2205.98\n",
      "1335   18  36.9   1629.83\n",
      "1336   21  25.8   2007.95\n",
      "1337   61  29.1  29141.36\n",
      "\n",
      "[1329 rows x 3 columns]\n"
     ]
    },
    {
     "data": {
      "text/plain": [
       "<AxesSubplot:>"
      ]
     },
     "execution_count": 139,
     "metadata": {},
     "output_type": "execute_result"
    },
    {
     "data": {
      "image/png": "[encoded data removed]",
      "text/plain": [
       "<Figure size 432x288 with 1 Axes>"
      ]
     },
     "metadata": {
      "needs_background": "light"
     },
     "output_type": "display_data"
    }
   ],
   "source": [
    "### removing outliers from bmi\n",
    "df_outlierRemoval = outlier_detection_removal(newDistData,'bmi')\n",
    "\n",
    "# plotting the box plot after removal of outliers from bmi\n",
    "sns.boxplot(data = df_outlierRemoval[['age','bmi']])"
   ]
  },
  {
   "cell_type": "code",
   "execution_count": 159,
   "metadata": {},
   "outputs": [
    {
     "name": "stdout",
     "output_type": "stream",
     "text": [
      "Q1: 4738.27\n",
      "Q3: 16586.5\n",
      "IQR:  11848.23\n",
      "cut_off: 17772.345\n",
      "l_threshold: -13034.075\n",
      "u_threshold: 34358.845\n",
      "*******************************************************\n",
      "Outliers above::       age   bmi  expenses\n",
      "14     27  42.1  39611.76\n",
      "19     30  35.3  36837.47\n",
      "23     34  31.9  37701.88\n",
      "29     31  36.3  38711.00\n",
      "30     22  35.6  35585.58\n",
      "...   ...   ...       ...\n",
      "1300   45  30.4  62592.87\n",
      "1301   62  30.9  46718.16\n",
      "1303   43  27.8  37829.72\n",
      "1313   19  34.7  36397.58\n",
      "1323   42  40.4  43896.38\n",
      "\n",
      "[138 rows x 3 columns]\n",
      "*******************************************************\n",
      "Outliers below:: Empty DataFrame\n",
      "Columns: [age, bmi, expenses]\n",
      "Index: []\n",
      "*******************************************************\n",
      "Total number of outliers are 138\n",
      "*******************************************************\n",
      "Data frame after removal of outliers:\n",
      "      age   bmi  expenses\n",
      "0      19  27.9  16884.92\n",
      "1      18  33.8   1725.55\n",
      "2      28  33.0   4449.46\n",
      "3      33  22.7  21984.47\n",
      "4      32  28.9   3866.86\n",
      "...   ...   ...       ...\n",
      "1333   50  31.0  10600.55\n",
      "1334   18  31.9   2205.98\n",
      "1335   18  36.9   1629.83\n",
      "1336   21  25.8   2007.95\n",
      "1337   61  29.1  29141.36\n",
      "\n",
      "[1191 rows x 3 columns]\n",
      "*******************************************************\n",
      "*******************************************************\n",
      "Count of rows with expenses < -13034.075 0\n",
      "Count of rows with expenses > 34358.845 0\n",
      "*******************************************************\n"
     ]
    },
    {
     "data": {
      "text/plain": [
       "<AxesSubplot:>"
      ]
     },
     "execution_count": 159,
     "metadata": {},
     "output_type": "execute_result"
    },
    {
     "data": {
      "image/png": "[encoded data removed]",
      "text/plain": [
       "<Figure size 432x288 with 1 Axes>"
      ]
     },
     "metadata": {
      "needs_background": "light"
     },
     "output_type": "display_data"
    }
   ],
   "source": [
    "### removing outliers from expenses\n",
    "df_outlier_expense_removed = outlier_detection_removal(df_outlierRemoval,'expenses')\n",
    "print(\"*******************************************************\")\n",
    "print(\"Count of rows with expenses < -13034.075\",(df_outlier_expense_removed['expenses'] < -13034.075).sum())\n",
    "print(\"Count of rows with expenses > 34358.845\",(df_outlier_expense_removed['expenses'] > 34358.845).sum())\n",
    "\n",
    "print(\"*******************************************************\")\n",
    "# plotting the box plot after removal of outliers from bmi\n",
    "sns.boxplot(data = df_outlier_expense_removed['expenses'])"
   ]
  },
  {
   "cell_type": "markdown",
   "metadata": {},
   "source": [
    "#### h. Distribution of categorical columns"
   ]
  },
  {
   "cell_type": "code",
   "execution_count": 177,
   "metadata": {},
   "outputs": [
    {
     "data": {
      "text/html": [
       "<div>\n",
       "<style scoped>\n",
       "    .dataframe tbody tr th:only-of-type {\n",
       "        vertical-align: middle;\n",
       "    }\n",
       "\n",
       "    .dataframe tbody tr th {\n",
       "        vertical-align: top;\n",
       "    }\n",
       "\n",
       "    .dataframe thead th {\n",
       "        text-align: right;\n",
       "    }\n",
       "</style>\n",
       "<table border=\"1\" class=\"dataframe\">\n",
       "  <thead>\n",
       "    <tr style=\"text-align: right;\">\n",
       "      <th></th>\n",
       "      <th>sex</th>\n",
       "      <th>children</th>\n",
       "      <th>smoker</th>\n",
       "      <th>region</th>\n",
       "    </tr>\n",
       "  </thead>\n",
       "  <tbody>\n",
       "    <tr>\n",
       "      <th>0</th>\n",
       "      <td>female</td>\n",
       "      <td>0</td>\n",
       "      <td>yes</td>\n",
       "      <td>southwest</td>\n",
       "    </tr>\n",
       "    <tr>\n",
       "      <th>1</th>\n",
       "      <td>male</td>\n",
       "      <td>1</td>\n",
       "      <td>no</td>\n",
       "      <td>southeast</td>\n",
       "    </tr>\n",
       "    <tr>\n",
       "      <th>2</th>\n",
       "      <td>male</td>\n",
       "      <td>3</td>\n",
       "      <td>no</td>\n",
       "      <td>southeast</td>\n",
       "    </tr>\n",
       "    <tr>\n",
       "      <th>3</th>\n",
       "      <td>male</td>\n",
       "      <td>0</td>\n",
       "      <td>no</td>\n",
       "      <td>northwest</td>\n",
       "    </tr>\n",
       "    <tr>\n",
       "      <th>4</th>\n",
       "      <td>male</td>\n",
       "      <td>0</td>\n",
       "      <td>no</td>\n",
       "      <td>northwest</td>\n",
       "    </tr>\n",
       "  </tbody>\n",
       "</table>\n",
       "</div>"
      ],
      "text/plain": [
       "      sex  children smoker     region\n",
       "0  female         0    yes  southwest\n",
       "1    male         1     no  southeast\n",
       "2    male         3     no  southeast\n",
       "3    male         0     no  northwest\n",
       "4    male         0     no  northwest"
      ]
     },
     "execution_count": 177,
     "metadata": {},
     "output_type": "execute_result"
    }
   ],
   "source": [
    "# copying the data\n",
    "data_categorical = data.copy()\n",
    "\n",
    "# removing the non categorical columns\n",
    "data_categorical.drop(['age','bmi','expenses'],axis =1,inplace=True)\n",
    "data_categorical.head()"
   ]
  },
  {
   "cell_type": "code",
   "execution_count": 178,
   "metadata": {},
   "outputs": [
    {
     "data": {
      "text/plain": [
       "male      676\n",
       "female    662\n",
       "Name: sex, dtype: int64"
      ]
     },
     "execution_count": 178,
     "metadata": {},
     "output_type": "execute_result"
    }
   ],
   "source": [
    "### count of males and females\n",
    "data_categorical['sex'].value_counts()"
   ]
  },
  {
   "cell_type": "code",
   "execution_count": 179,
   "metadata": {},
   "outputs": [
    {
     "data": {
      "text/plain": [
       "<AxesSubplot:xlabel='sex', ylabel='count'>"
      ]
     },
     "execution_count": 179,
     "metadata": {},
     "output_type": "execute_result"
    },
    {
     "data": {
      "image/png": "[encoded data removed]",
      "text/plain": [
       "<Figure size 432x288 with 1 Axes>"
      ]
     },
     "metadata": {
      "needs_background": "light"
     },
     "output_type": "display_data"
    }
   ],
   "source": [
    "### Count plot\n",
    "sns.countplot(x='sex',data=data_categorical)"
   ]
  },
  {
   "cell_type": "code",
   "execution_count": 180,
   "metadata": {},
   "outputs": [
    {
     "data": {
      "text/plain": [
       "<AxesSubplot:xlabel='count', ylabel='smoker'>"
      ]
     },
     "execution_count": 180,
     "metadata": {},
     "output_type": "execute_result"
    },
    {
     "data": {
      "image/png": "[encoded data removed]",
      "text/plain": [
       "<Figure size 432x288 with 1 Axes>"
      ]
     },
     "metadata": {
      "needs_background": "light"
     },
     "output_type": "display_data"
    }
   ],
   "source": [
    "## Count plot for smokers\n",
    "sns.countplot(y='smoker',data=data_categorical)"
   ]
  },
  {
   "cell_type": "code",
   "execution_count": 181,
   "metadata": {},
   "outputs": [
    {
     "data": {
      "text/plain": [
       "<AxesSubplot:xlabel='count', ylabel='region'>"
      ]
     },
     "execution_count": 181,
     "metadata": {},
     "output_type": "execute_result"
    },
    {
     "data": {
      "image/png": "[encoded data removed]",
      "text/plain": [
       "<Figure size 432x288 with 1 Axes>"
      ]
     },
     "metadata": {
      "needs_background": "light"
     },
     "output_type": "display_data"
    }
   ],
   "source": [
    "## Count plot for regions\n",
    "sns.countplot(y='region',data=data_categorical)"
   ]
  },
  {
   "cell_type": "code",
   "execution_count": 182,
   "metadata": {},
   "outputs": [
    {
     "data": {
      "text/plain": [
       "<AxesSubplot:xlabel='count', ylabel='children'>"
      ]
     },
     "execution_count": 182,
     "metadata": {},
     "output_type": "execute_result"
    },
    {
     "data": {
      "image/png": "[encoded data removed]",
      "text/plain": [
       "<Figure size 432x288 with 1 Axes>"
      ]
     },
     "metadata": {
      "needs_background": "light"
     },
     "output_type": "display_data"
    }
   ],
   "source": [
    "## Count plot for children\n",
    "sns.countplot(y='children',data=data_categorical)"
   ]
  },
  {
   "cell_type": "markdown",
   "metadata": {},
   "source": [
    "#### i. Pair plot that includes all the columns of the data frame"
   ]
  },
  {
   "cell_type": "code",
   "execution_count": 185,
   "metadata": {},
   "outputs": [
    {
     "data": {
      "text/plain": [
       "<seaborn.axisgrid.PairGrid at 0x1b18ef0b130>"
      ]
     },
     "execution_count": 185,
     "metadata": {},
     "output_type": "execute_result"
    },
    {
     "data": {
      "image/png": "[encoded data removed]",
      "text/plain": [
       "<Figure size 720x720 with 20 Axes>"
      ]
     },
     "metadata": {
      "needs_background": "light"
     },
     "output_type": "display_data"
    }
   ],
   "source": [
    "sns.pairplot(data = data)"
   ]
  },
  {
   "cell_type": "markdown",
   "metadata": {},
   "source": [
    "#### 4. Answer the following questions with statistical evidence"
   ]
  },
  {
   "cell_type": "markdown",
   "metadata": {},
   "source": [
    "\n",
    " - a. Do expenses of people who smoke differ significantly from the people who don't?\n",
    "\n",
    " - b. Does bmi of males differ significantly from that of females? \n",
    "\n",
    " - c. Is the proportion of smokers significantly different in different genders? \n",
    "\n",
    " - d. Is the distribution of bmi across women with no children, one child and two children, the same? "
   ]
  },
  {
   "cell_type": "markdown",
   "metadata": {},
   "source": [
    "#### a. Do expenses of people who smoke differ significantly from the people who don't?"
   ]
  },
  {
   "cell_type": "markdown",
   "metadata": {},
   "source": [
    " - Step1: Filter data separately for smokers and non smokers\n",
    " - Step2: Plot the expenses of smokers and non-smokers"
   ]
  },
  {
   "cell_type": "code",
   "execution_count": 186,
   "metadata": {},
   "outputs": [
    {
     "data": {
      "text/html": [
       "<div>\n",
       "<style scoped>\n",
       "    .dataframe tbody tr th:only-of-type {\n",
       "        vertical-align: middle;\n",
       "    }\n",
       "\n",
       "    .dataframe tbody tr th {\n",
       "        vertical-align: top;\n",
       "    }\n",
       "\n",
       "    .dataframe thead th {\n",
       "        text-align: right;\n",
       "    }\n",
       "</style>\n",
       "<table border=\"1\" class=\"dataframe\">\n",
       "  <thead>\n",
       "    <tr style=\"text-align: right;\">\n",
       "      <th></th>\n",
       "      <th>age</th>\n",
       "      <th>sex</th>\n",
       "      <th>bmi</th>\n",
       "      <th>children</th>\n",
       "      <th>smoker</th>\n",
       "      <th>region</th>\n",
       "      <th>expenses</th>\n",
       "    </tr>\n",
       "  </thead>\n",
       "  <tbody>\n",
       "    <tr>\n",
       "      <th>0</th>\n",
       "      <td>19</td>\n",
       "      <td>female</td>\n",
       "      <td>27.9</td>\n",
       "      <td>0</td>\n",
       "      <td>yes</td>\n",
       "      <td>southwest</td>\n",
       "      <td>16884.92</td>\n",
       "    </tr>\n",
       "    <tr>\n",
       "      <th>1</th>\n",
       "      <td>18</td>\n",
       "      <td>male</td>\n",
       "      <td>33.8</td>\n",
       "      <td>1</td>\n",
       "      <td>no</td>\n",
       "      <td>southeast</td>\n",
       "      <td>1725.55</td>\n",
       "    </tr>\n",
       "    <tr>\n",
       "      <th>2</th>\n",
       "      <td>28</td>\n",
       "      <td>male</td>\n",
       "      <td>33.0</td>\n",
       "      <td>3</td>\n",
       "      <td>no</td>\n",
       "      <td>southeast</td>\n",
       "      <td>4449.46</td>\n",
       "    </tr>\n",
       "    <tr>\n",
       "      <th>3</th>\n",
       "      <td>33</td>\n",
       "      <td>male</td>\n",
       "      <td>22.7</td>\n",
       "      <td>0</td>\n",
       "      <td>no</td>\n",
       "      <td>northwest</td>\n",
       "      <td>21984.47</td>\n",
       "    </tr>\n",
       "    <tr>\n",
       "      <th>4</th>\n",
       "      <td>32</td>\n",
       "      <td>male</td>\n",
       "      <td>28.9</td>\n",
       "      <td>0</td>\n",
       "      <td>no</td>\n",
       "      <td>northwest</td>\n",
       "      <td>3866.86</td>\n",
       "    </tr>\n",
       "  </tbody>\n",
       "</table>\n",
       "</div>"
      ],
      "text/plain": [
       "   age     sex   bmi  children smoker     region  expenses\n",
       "0   19  female  27.9         0    yes  southwest  16884.92\n",
       "1   18    male  33.8         1     no  southeast   1725.55\n",
       "2   28    male  33.0         3     no  southeast   4449.46\n",
       "3   33    male  22.7         0     no  northwest  21984.47\n",
       "4   32    male  28.9         0     no  northwest   3866.86"
      ]
     },
     "execution_count": 186,
     "metadata": {},
     "output_type": "execute_result"
    }
   ],
   "source": [
    "data.head()"
   ]
  },
  {
   "cell_type": "code",
   "execution_count": 191,
   "metadata": {},
   "outputs": [
    {
     "data": {
      "text/html": [
       "<div>\n",
       "<style scoped>\n",
       "    .dataframe tbody tr th:only-of-type {\n",
       "        vertical-align: middle;\n",
       "    }\n",
       "\n",
       "    .dataframe tbody tr th {\n",
       "        vertical-align: top;\n",
       "    }\n",
       "\n",
       "    .dataframe thead th {\n",
       "        text-align: right;\n",
       "    }\n",
       "</style>\n",
       "<table border=\"1\" class=\"dataframe\">\n",
       "  <thead>\n",
       "    <tr style=\"text-align: right;\">\n",
       "      <th></th>\n",
       "      <th>age</th>\n",
       "      <th>sex</th>\n",
       "      <th>bmi</th>\n",
       "      <th>children</th>\n",
       "      <th>smoker</th>\n",
       "      <th>region</th>\n",
       "      <th>expenses</th>\n",
       "    </tr>\n",
       "  </thead>\n",
       "  <tbody>\n",
       "    <tr>\n",
       "      <th>1</th>\n",
       "      <td>18</td>\n",
       "      <td>male</td>\n",
       "      <td>33.8</td>\n",
       "      <td>1</td>\n",
       "      <td>no</td>\n",
       "      <td>southeast</td>\n",
       "      <td>1725.55</td>\n",
       "    </tr>\n",
       "    <tr>\n",
       "      <th>2</th>\n",
       "      <td>28</td>\n",
       "      <td>male</td>\n",
       "      <td>33.0</td>\n",
       "      <td>3</td>\n",
       "      <td>no</td>\n",
       "      <td>southeast</td>\n",
       "      <td>4449.46</td>\n",
       "    </tr>\n",
       "    <tr>\n",
       "      <th>3</th>\n",
       "      <td>33</td>\n",
       "      <td>male</td>\n",
       "      <td>22.7</td>\n",
       "      <td>0</td>\n",
       "      <td>no</td>\n",
       "      <td>northwest</td>\n",
       "      <td>21984.47</td>\n",
       "    </tr>\n",
       "    <tr>\n",
       "      <th>4</th>\n",
       "      <td>32</td>\n",
       "      <td>male</td>\n",
       "      <td>28.9</td>\n",
       "      <td>0</td>\n",
       "      <td>no</td>\n",
       "      <td>northwest</td>\n",
       "      <td>3866.86</td>\n",
       "    </tr>\n",
       "    <tr>\n",
       "      <th>5</th>\n",
       "      <td>31</td>\n",
       "      <td>female</td>\n",
       "      <td>25.7</td>\n",
       "      <td>0</td>\n",
       "      <td>no</td>\n",
       "      <td>southeast</td>\n",
       "      <td>3756.62</td>\n",
       "    </tr>\n",
       "    <tr>\n",
       "      <th>...</th>\n",
       "      <td>...</td>\n",
       "      <td>...</td>\n",
       "      <td>...</td>\n",
       "      <td>...</td>\n",
       "      <td>...</td>\n",
       "      <td>...</td>\n",
       "      <td>...</td>\n",
       "    </tr>\n",
       "    <tr>\n",
       "      <th>1332</th>\n",
       "      <td>52</td>\n",
       "      <td>female</td>\n",
       "      <td>44.7</td>\n",
       "      <td>3</td>\n",
       "      <td>no</td>\n",
       "      <td>southwest</td>\n",
       "      <td>11411.69</td>\n",
       "    </tr>\n",
       "    <tr>\n",
       "      <th>1333</th>\n",
       "      <td>50</td>\n",
       "      <td>male</td>\n",
       "      <td>31.0</td>\n",
       "      <td>3</td>\n",
       "      <td>no</td>\n",
       "      <td>northwest</td>\n",
       "      <td>10600.55</td>\n",
       "    </tr>\n",
       "    <tr>\n",
       "      <th>1334</th>\n",
       "      <td>18</td>\n",
       "      <td>female</td>\n",
       "      <td>31.9</td>\n",
       "      <td>0</td>\n",
       "      <td>no</td>\n",
       "      <td>northeast</td>\n",
       "      <td>2205.98</td>\n",
       "    </tr>\n",
       "    <tr>\n",
       "      <th>1335</th>\n",
       "      <td>18</td>\n",
       "      <td>female</td>\n",
       "      <td>36.9</td>\n",
       "      <td>0</td>\n",
       "      <td>no</td>\n",
       "      <td>southeast</td>\n",
       "      <td>1629.83</td>\n",
       "    </tr>\n",
       "    <tr>\n",
       "      <th>1336</th>\n",
       "      <td>21</td>\n",
       "      <td>female</td>\n",
       "      <td>25.8</td>\n",
       "      <td>0</td>\n",
       "      <td>no</td>\n",
       "      <td>southwest</td>\n",
       "      <td>2007.95</td>\n",
       "    </tr>\n",
       "  </tbody>\n",
       "</table>\n",
       "<p>1064 rows × 7 columns</p>\n",
       "</div>"
      ],
      "text/plain": [
       "      age     sex   bmi  children smoker     region  expenses\n",
       "1      18    male  33.8         1     no  southeast   1725.55\n",
       "2      28    male  33.0         3     no  southeast   4449.46\n",
       "3      33    male  22.7         0     no  northwest  21984.47\n",
       "4      32    male  28.9         0     no  northwest   3866.86\n",
       "5      31  female  25.7         0     no  southeast   3756.62\n",
       "...   ...     ...   ...       ...    ...        ...       ...\n",
       "1332   52  female  44.7         3     no  southwest  11411.69\n",
       "1333   50    male  31.0         3     no  northwest  10600.55\n",
       "1334   18  female  31.9         0     no  northeast   2205.98\n",
       "1335   18  female  36.9         0     no  southeast   1629.83\n",
       "1336   21  female  25.8         0     no  southwest   2007.95\n",
       "\n",
       "[1064 rows x 7 columns]"
      ]
     },
     "execution_count": 191,
     "metadata": {},
     "output_type": "execute_result"
    }
   ],
   "source": [
    "smokers = data[(data['smoker'] == 'yes')]\n",
    "non_smokers = data[(data['smoker'] == 'no')]\n"
   ]
  },
  {
   "cell_type": "code",
   "execution_count": 200,
   "metadata": {},
   "outputs": [
    {
     "data": {
      "image/png": "[encoded data removed]",
      "text/plain": [
       "<Figure size 432x288 with 1 Axes>"
      ]
     },
     "metadata": {
      "needs_background": "light"
     },
     "output_type": "display_data"
    }
   ],
   "source": [
    "smokers['expenses'].hist(grid=False,label='smokers')\n",
    "# non_smokers['expenses'].hist(grid=False,label='non-smokers')\n",
    "plt.legend(prop={'size': 12})\n",
    "plt.title('Distribution of Expenses')\n",
    "plt.xlabel = 'expenses'\n"
   ]
  },
  {
   "cell_type": "code",
   "execution_count": 203,
   "metadata": {},
   "outputs": [
    {
     "data": {
      "image/png": "[encoded data removed]",
      "text/plain": [
       "<Figure size 432x288 with 1 Axes>"
      ]
     },
     "metadata": {
      "needs_background": "light"
     },
     "output_type": "display_data"
    }
   ],
   "source": [
    "non_smokers['expenses'].hist(grid=False,label='non-smokers')\n",
    "# non_smokers['expenses'].hist(grid=False,label='non-smokers')\n",
    "plt.legend(prop={'size': 12})\n",
    "plt.title('Distribution of Expenses')\n",
    "plt.xlabel = 'expenses'"
   ]
  },
  {
   "cell_type": "markdown",
   "metadata": {},
   "source": [
    "a.Do expenses of people who smoke differ significantly from the people who don't?\n",
    "\n",
    " - Null Hypothesis: Expenses of people who smoke is not significantly different from people do not smoke\n",
    " - Alternate Hypothesis: Expenses of people who smoke differ significantly from people who do not smoke\n",
    " - Assuming Confidence Interval = 95% = 0.95\n",
    " - alpha(Significance level) =0.05\n"
   ]
  },
  {
   "cell_type": "code",
   "execution_count": 260,
   "metadata": {},
   "outputs": [
    {
     "name": "stdout",
     "output_type": "stream",
     "text": [
      "Reject the null hypothesis as pvalue(5.889487102677625e-103) < alpha(0.05)\n",
      "Conclusion: Expenses of people who smoke differ significantly from people who do not smoke\n"
     ]
    }
   ],
   "source": [
    "alpha = 0.05\n",
    "statistic,pvalue = stats.ttest_ind(non_smokers['expenses'], smokers['expenses'],equal_var=False)\n",
    "pvalue\n",
    "\n",
    "if pvalue < alpha:\n",
    "    print(f\"Reject the null hypothesis as pvalue({pvalue}) < alpha({alpha})\")\n",
    "    print(\"Conclusion: Expenses of people who smoke differ significantly from people who do not smoke\")\n",
    "else:\n",
    "    print(f\"Fail to reject the null hypothesis as pvalue({pvalue}) >= alpha({alpha})\")\n",
    "    print(\"Conclusion: Expenses of people who smoke is not significantly different from people do not smoke\")"
   ]
  },
  {
   "cell_type": "markdown",
   "metadata": {},
   "source": [
    "#### b. Does bmi of males differ significantly from that of females?"
   ]
  },
  {
   "cell_type": "markdown",
   "metadata": {},
   "source": [
    "b. Does bmi of males differ significantly from that of females?\n",
    "\n",
    "- Null Hypothesis (H0): BMI of males does NOT differ significantly from that of females\n",
    "- Alternate Hypothesis (Ha): BMI of males differ significantly from that of females.\n",
    "- Assuming Confidence Interval = 95% = 0.95\n",
    "- alpha(Significance level) =0.05\n"
   ]
  },
  {
   "cell_type": "code",
   "execution_count": 213,
   "metadata": {},
   "outputs": [],
   "source": [
    "males = data[data['sex']=='male']\n",
    "females = data[data['sex']=='female']"
   ]
  },
  {
   "cell_type": "code",
   "execution_count": 215,
   "metadata": {},
   "outputs": [
    {
     "name": "stderr",
     "output_type": "stream",
     "text": [
      "C:\\Users\\User1\\anaconda3\\lib\\site-packages\\seaborn\\distributions.py:2551: FutureWarning: `distplot` is a deprecated function and will be removed in a future version. Please adapt your code to use either `displot` (a figure-level function with similar flexibility) or `histplot` (an axes-level function for histograms).\n",
      "  warnings.warn(msg, FutureWarning)\n"
     ]
    },
    {
     "data": {
      "text/plain": [
       "Text(0.5, 1.0, 'BMI of males')"
      ]
     },
     "execution_count": 215,
     "metadata": {},
     "output_type": "execute_result"
    },
    {
     "data": {
      "image/png": "[encoded data removed]",
      "text/plain": [
       "<Figure size 432x288 with 1 Axes>"
      ]
     },
     "metadata": {
      "needs_background": "light"
     },
     "output_type": "display_data"
    }
   ],
   "source": [
    "### Plotting the bmi for males\n",
    "sns.distplot(males['bmi'],kde=False)\n",
    "plt.title(\"BMI of males\")"
   ]
  },
  {
   "cell_type": "code",
   "execution_count": 217,
   "metadata": {},
   "outputs": [
    {
     "data": {
      "text/plain": [
       "Text(0.5, 1.0, 'BMI of females')"
      ]
     },
     "execution_count": 217,
     "metadata": {},
     "output_type": "execute_result"
    },
    {
     "data": {
      "image/png": "[encoded data removed]",
      "text/plain": [
       "<Figure size 432x288 with 1 Axes>"
      ]
     },
     "metadata": {
      "needs_background": "light"
     },
     "output_type": "display_data"
    }
   ],
   "source": [
    "### Plotting the bmi for females\n",
    "sns.distplot(females['bmi'],kde=False)\n",
    "plt.title(\"BMI of females\")"
   ]
  },
  {
   "cell_type": "code",
   "execution_count": 259,
   "metadata": {},
   "outputs": [
    {
     "name": "stdout",
     "output_type": "stream",
     "text": [
      "Fail to reject the null hypothesis as pvalue(0.08986184196319554) >= aplha(0.05)\n",
      "Conclusion: BMI of males does NOT differ significantly from that of females\n"
     ]
    }
   ],
   "source": [
    "alpha=0.05\n",
    "\n",
    "alpha = alpha\n",
    "statistic,pvalue = stats.ttest_ind(males['bmi'],females['bmi'],equal_var=False)\n",
    "if(pvalue < alpha):\n",
    "    print(\"Reject the null hypothesis as pvalue({pvalue}) < aplha({alpha})\")\n",
    "    print(\"Conclusion: BMI of males differ significantly from that of females\")\n",
    "else:\n",
    "    print(f\"Fail to reject the null hypothesis as pvalue({pvalue}) >= aplha({alpha})\")\n",
    "    print(\"Conclusion: BMI of males does NOT differ significantly from that of females\")\n",
    "    "
   ]
  },
  {
   "cell_type": "markdown",
   "metadata": {},
   "source": [
    "#### c. Is the proportion of smokers significantly different in different genders?"
   ]
  },
  {
   "cell_type": "markdown",
   "metadata": {},
   "source": [
    "c. Is the proportion of smokers significantly different in different genders?\n",
    "\n",
    " - H0:The proportion of smokers is NOT significantly different in different genders\n",
    " - Ha:The proportion of smokers is significantly different in different genders\n",
    " - CI = 0.95\n",
    " - alpha(SL) = 0.05\n"
   ]
  },
  {
   "cell_type": "code",
   "execution_count": 246,
   "metadata": {},
   "outputs": [],
   "source": [
    "## filtering the male and female\n",
    "female_smokers = (data['sex'] == 'female') & (data['smoker'] == 'yes')\n",
    "male_smokers = (data['sex'] == 'male') & (data['smoker'] == 'yes')\n",
    "\n",
    "male = data['sex']=='male'\n",
    "female = data['sex'] == 'female'"
   ]
  },
  {
   "cell_type": "code",
   "execution_count": 234,
   "metadata": {},
   "outputs": [
    {
     "data": {
      "text/plain": [
       "False    1223\n",
       "True      115\n",
       "dtype: int64"
      ]
     },
     "execution_count": 234,
     "metadata": {},
     "output_type": "execute_result"
    }
   ],
   "source": [
    "female_smokers.value_counts()"
   ]
  },
  {
   "cell_type": "code",
   "execution_count": 235,
   "metadata": {},
   "outputs": [
    {
     "data": {
      "text/plain": [
       "False    1179\n",
       "True      159\n",
       "dtype: int64"
      ]
     },
     "execution_count": 235,
     "metadata": {},
     "output_type": "execute_result"
    }
   ],
   "source": [
    "male_smokers.value_counts()"
   ]
  },
  {
   "cell_type": "code",
   "execution_count": 236,
   "metadata": {},
   "outputs": [
    {
     "data": {
      "text/plain": [
       "8.594917787742899"
      ]
     },
     "execution_count": 236,
     "metadata": {},
     "output_type": "execute_result"
    }
   ],
   "source": [
    "#proportion of smokers based on gender\n",
    "#Female\n",
    "\n",
    "115/1338 * 100"
   ]
  },
  {
   "cell_type": "code",
   "execution_count": 237,
   "metadata": {},
   "outputs": [
    {
     "data": {
      "text/plain": [
       "11.883408071748878"
      ]
     },
     "execution_count": 237,
     "metadata": {},
     "output_type": "execute_result"
    }
   ],
   "source": [
    "#Male\n",
    "159/1338 * 100"
   ]
  },
  {
   "cell_type": "code",
   "execution_count": 225,
   "metadata": {},
   "outputs": [
    {
     "data": {
      "text/plain": [
       "<AxesSubplot:xlabel='count', ylabel='sex'>"
      ]
     },
     "execution_count": 225,
     "metadata": {},
     "output_type": "execute_result"
    },
    {
     "data": {
      "image/png": "[encoded data removed]",
      "text/plain": [
       "<Figure size 432x288 with 1 Axes>"
      ]
     },
     "metadata": {
      "needs_background": "light"
     },
     "output_type": "display_data"
    }
   ],
   "source": [
    "## plotting the count\n",
    "\n",
    "sns.countplot(data=data[(data['smoker'] == 'yes')],y='sex')"
   ]
  },
  {
   "cell_type": "code",
   "execution_count": 258,
   "metadata": {},
   "outputs": [
    {
     "name": "stdout",
     "output_type": "stream",
     "text": [
      "Reject the null hypothesis since pvalue (0.005010462020656002) < alpha (0.05)\n",
      "Conclusion: The proportion of smokers is significantly different in different genders\n"
     ]
    }
   ],
   "source": [
    "H0=\"The proportion of smokers is NOT significantly different in different genders\"\n",
    "Ha=\"The proportion of smokers is significantly different in different genders\"\n",
    "alpha = 0.05\n",
    "alpha = alpha\n",
    "\n",
    "\n",
    "\n",
    "### using ttest\n",
    "statistic,pvalue = stats.ttest_ind(male_smokers,female_smokers,equal_var=False)\n",
    "if pvalue < alpha:\n",
    "    print(f\"Reject the null hypothesis since pvalue ({pvalue}) < alpha ({alpha})\")\n",
    "    print(f\"Conclusion: {Ha}\")\n",
    "else:\n",
    "    print(f\"Fail to reject the null hypothesis since pvalue ({pvalue}) >= alpha ({alpha})\")\n",
    "    print(f\"Conclusion: {H0}\")\n",
    "    \n"
   ]
  },
  {
   "cell_type": "markdown",
   "metadata": {},
   "source": [
    "#### Using z-test"
   ]
  },
  {
   "cell_type": "code",
   "execution_count": 257,
   "metadata": {},
   "outputs": [
    {
     "name": "stdout",
     "output_type": "stream",
     "text": [
      "Reject the null hypothesis since pvalue (0.005324114164320532) < alpha (0.05)\n",
      "Conclusion: The proportion of smokers is significantly different in different genders\n"
     ]
    }
   ],
   "source": [
    "#### Using ztest\n",
    "\n",
    "from statsmodels.stats.proportion import proportions_ztest\n",
    "\n",
    "H0=\"The proportion of smokers is NOT significantly different in different genders\"\n",
    "Ha=\"The proportion of smokers is significantly different in different genders\"\n",
    "alpha = 0.05\n",
    "alpha = alpha\n",
    "\n",
    "statistic,pvalue = proportions_ztest([male_smokers.value_counts()[True],female_smokers.value_counts()[True]],[male.value_counts()[True],female.value_counts()[True]])\n",
    "if pvalue < alpha:\n",
    "    print(f\"Reject the null hypothesis since pvalue ({pvalue}) < alpha ({alpha})\")\n",
    "    print(f\"Conclusion: {Ha}\")\n",
    "else:\n",
    "    print(f\"Fail to reject the null hypothesis since pvalue ({pvalue}) >= alpha ({alpha})\")\n",
    "    print(f\"Conclusion: {H0}\")\n",
    "\n",
    "\n",
    "    "
   ]
  },
  {
   "cell_type": "markdown",
   "metadata": {},
   "source": [
    "#### d. Is the distribution of bmi across women with no children, one child and two children, the same?"
   ]
  },
  {
   "cell_type": "markdown",
   "metadata": {},
   "source": [
    "d. Is the distribution of bmi across women with no children, one child and two children, the same?\n",
    "- H0 :\"No. of children has no effect on bmi\"   \n",
    "- Ha: \"No. of children has an effect on bmi\"\n",
    "- CI = 0.95\n",
    "- alpha(SL) = 0.05\n",
    "   "
   ]
  },
  {
   "cell_type": "code",
   "execution_count": 256,
   "metadata": {},
   "outputs": [
    {
     "name": "stdout",
     "output_type": "stream",
     "text": [
      "Fail to reject the null hypothesis as pvalue(0.7148335064686346) >= alpha(0.025)\n",
      "Conclusion: No. of children has no effect on bmi\n"
     ]
    }
   ],
   "source": [
    "### Applying ANOVA test since there are more than 2 groups\n",
    "H0 :\"No. of children has no effect on bmi\"\n",
    "Ha: \"No. of children has an effect on bmi\"\n",
    "alpha = 0.05\n",
    "\n",
    "females = data[data['sex']=='female']\n",
    "\n",
    "zero_children_bmi = females[females['children']==0]['bmi'] \n",
    "one_child_bmi = females[females['children']==1]['bmi'] \n",
    "two_children_bmi = females[females['children']==2]['bmi'] \n",
    "\n",
    "f_statistic, p_value = stats.f_oneway(zero,one,two)\n",
    "if p_value < alpha:\n",
    "    print(f\"Reject the null hypothesis as pvalue({p_value}) < alpha({alpha})\")\n",
    "    print(\"Conclusion: No. of children has an effect on bmi\")\n",
    "else:\n",
    "    print(f\"Fail to reject the null hypothesis as pvalue({p_value}) >= alpha({alpha})\")\n",
    "    print(\"Conclusion: No. of children has no effect on bmi\")"
   ]
  }
 ],
 "metadata": {
  "kernelspec": {
   "display_name": "Python 3",
   "language": "python",
   "name": "python3"
  },
  "language_info": {
   "codemirror_mode": {
    "name": "ipython",
    "version": 3
   },
   "file_extension": ".py",
   "mimetype": "text/x-python",
   "name": "python",
   "nbconvert_exporter": "python",
   "pygments_lexer": "ipython3",
   "version": "3.8.5"
  }
 },
 "nbformat": 4,
 "nbformat_minor": 2
}
